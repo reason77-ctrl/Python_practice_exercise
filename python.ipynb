{
 "cells": [
  {
   "cell_type": "code",
   "execution_count": 9,
   "metadata": {},
   "outputs": [
    {
     "name": "stdout",
     "output_type": "stream",
     "text": [
      "Guess a number between 1 and 10: 6\n",
      "Sorry, guess again, Too Low.\n",
      "Guess a number between 1 and 10: 8\n",
      "Sorry, guess again, Too Low.\n",
      "Guess a number between 1 and 10: 9\n",
      "Sorry, guess again, Too Low.\n",
      "Guess a number between 1 and 10: 10\n",
      "Yay, Congrats!!, Correct Guess 10\n"
     ]
    }
   ],
   "source": [
    "import random\n",
    "\n",
    "def guess(x):\n",
    "    random_num = random.randint(1,x)\n",
    "    guess = 0\n",
    "    while guess != random_num:\n",
    "        guess = int(input(f'Guess a number between 1 and {x}: '))\n",
    "        if guess < random_num:\n",
    "            print('Sorry, guess again, Too Low.') \n",
    "        elif guess > random_num:\n",
    "            print('Sorry, guess again!! Too high') \n",
    "    print(f'Yay, Congrats!!, Correct Guess {random_num}')       \n",
    "        \n",
    "guess(10)"
   ]
  },
  {
   "cell_type": "code",
   "execution_count": 11,
   "metadata": {},
   "outputs": [
    {
     "name": "stdout",
     "output_type": "stream",
     "text": [
      "is 6 too high (H), too low (L), or correct (C)??? h\n",
      "is 5 too high (H), too low (L), or correct (C)??? c\n",
      "yay! The computer guessed your number, 5, correctly!\n"
     ]
    }
   ],
   "source": [
    "def computer_guess(x):\n",
    "    low = 1\n",
    "    high = x\n",
    "    feedback = ''\n",
    "    while feedback != 'c':\n",
    "        if low != high:\n",
    "            guess = random.randint(low, high)\n",
    "        else:\n",
    "            guess = low\n",
    "        feedback = input(f'is {guess} too high (H), too low (L), or correct (C)??? ').lower()\n",
    "        if feedback == 'h':\n",
    "            high = guess - 1\n",
    "        if feedback == 'l':\n",
    "            low = guess +1\n",
    "            \n",
    "    print(f'yay! The computer guessed your number, {guess}, correctly!')\n",
    "    \n",
    "computer_guess(10)"
   ]
  },
  {
   "cell_type": "code",
   "execution_count": null,
   "metadata": {},
   "outputs": [],
   "source": []
  }
 ],
 "metadata": {
  "kernelspec": {
   "display_name": "Python 3",
   "language": "python",
   "name": "python3"
  },
  "language_info": {
   "codemirror_mode": {
    "name": "ipython",
    "version": 3
   },
   "file_extension": ".py",
   "mimetype": "text/x-python",
   "name": "python",
   "nbconvert_exporter": "python",
   "pygments_lexer": "ipython3",
   "version": "3.8.5"
  }
 },
 "nbformat": 4,
 "nbformat_minor": 4
}
