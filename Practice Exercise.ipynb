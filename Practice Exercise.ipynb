{
 "cells": [
  {
   "cell_type": "code",
   "execution_count": null,
   "metadata": {},
   "outputs": [],
   "source": [
    "num = 0\n",
    "while num <= 10:\n",
    "    print(num)\n",
    "    num += 1"
   ]
  },
  {
   "cell_type": "code",
   "execution_count": 2,
   "metadata": {},
   "outputs": [
    {
     "name": "stdout",
     "output_type": "stream",
     "text": [
      "Number Pattern\n",
      "1 \n",
      "1 2 \n",
      "1 2 3 \n",
      "1 2 3 4 \n",
      "1 2 3 4 5 \n",
      "1 2 3 4 5 6 \n"
     ]
    }
   ],
   "source": [
    "print('Number Pattern')\n",
    "lastNum = 7\n",
    "for row in range(1, lastNum):\n",
    "    for column in range(1, row+1):\n",
    "        print(column, end = ' ')\n",
    "    print('')    "
   ]
  },
  {
   "cell_type": "code",
   "execution_count": 3,
   "metadata": {},
   "outputs": [
    {
     "ename": "SyntaxError",
     "evalue": "invalid syntax (<ipython-input-3-f3f171959353>, line 3)",
     "output_type": "error",
     "traceback": [
      "\u001b[1;36m  File \u001b[1;32m\"<ipython-input-3-f3f171959353>\"\u001b[1;36m, line \u001b[1;32m3\u001b[0m\n\u001b[1;33m    for row in range()\u001b[0m\n\u001b[1;37m                      ^\u001b[0m\n\u001b[1;31mSyntaxError\u001b[0m\u001b[1;31m:\u001b[0m invalid syntax\n"
     ]
    }
   ],
   "source": [
    "print('Reverse Number Pattern')\n",
    "lastNum = 1\n",
    "for row in range()"
   ]
  },
  {
   "cell_type": "code",
   "execution_count": null,
   "metadata": {},
   "outputs": [],
   "source": [
    "# sum of number between 1 and given num\n",
    "num = int(input('Enter Num = '))\n",
    "a = 0\n",
    "for i in range(1, num + 1, 1):\n",
    "    a += i\n",
    "print('\\n')    \n",
    "print('The sum = ',a)\n",
    "    "
   ]
  },
  {
   "cell_type": "code",
   "execution_count": null,
   "metadata": {},
   "outputs": [],
   "source": [
    "# Multiplication table\n",
    "num = int(input('Enter Num = '))\n",
    "for i in range(1, 11):\n",
    "    print(num, '*', i, '=', num*i)"
   ]
  },
  {
   "cell_type": "code",
   "execution_count": null,
   "metadata": {},
   "outputs": [],
   "source": [
    "# Multiplication Table using recursive function\n",
    "\n",
    "def table():\n",
    "    num = int(input(\"Enter Number = \"))\n",
    "    for i in range(1, 11):\n",
    "        print(num, '*', i, '=', num*i)\n",
    "    a = input('Another Num = ')\n",
    "    if a == 'yes':\n",
    "        table()\n",
    "    else:\n",
    "        print('End')\n",
    "table()        \n",
    "    "
   ]
  },
  {
   "cell_type": "code",
   "execution_count": null,
   "metadata": {},
   "outputs": [],
   "source": [
    "list1 = [12, 15, 32, 42, 55, 75, 122, 132, 150, 180, 200]\n",
    "for i in list1:\n",
    "    if i > 150:\n",
    "        break\n",
    "    if i % 5 == 0:\n",
    "        print(i)"
   ]
  },
  {
   "cell_type": "code",
   "execution_count": null,
   "metadata": {},
   "outputs": [],
   "source": [
    "num = int(input('Enter Number = '))\n",
    "count = 0\n",
    "while num != 0:\n",
    "    num //= 10\n",
    "    count += 1\n",
    "print('Total digits are: ',count)\n"
   ]
  },
  {
   "cell_type": "code",
   "execution_count": null,
   "metadata": {},
   "outputs": [],
   "source": []
  },
  {
   "cell_type": "code",
   "execution_count": null,
   "metadata": {},
   "outputs": [],
   "source": [
    "index = []\n",
    "s = ['Apple', 'Car', 'Cat', 'Dog', 'Fish', 'Apple', 1, 2, 3]\n",
    "n = input('Enter value = ')\n",
    "value = n.lower()\n",
    "for i in s:\n",
    "    if s[i] == 'Apple':\n",
    "        print(i)\n",
    "        index = index + [i]\n",
    "print(index)        "
   ]
  },
  {
   "cell_type": "code",
   "execution_count": null,
   "metadata": {},
   "outputs": [],
   "source": [
    "print(\"Second Number Pattern \")\n",
    "lastNumber = 6\n",
    "for row in range(1, lastNumber):\n",
    "    for column in range(1, row + 1):\n",
    "        print(column, end =' ')\n",
    "    print('')\n",
    "    "
   ]
  },
  {
   "cell_type": "code",
   "execution_count": null,
   "metadata": {},
   "outputs": [],
   "source": [
    "n = int(input('Enter num = '))\n",
    "sum1 = 0\n",
    "for i in range(1, n+1):\n",
    "    sum1 += i\n",
    "print(sum1)"
   ]
  },
  {
   "cell_type": "code",
   "execution_count": null,
   "metadata": {},
   "outputs": [],
   "source": [
    "n = [100, 200, 300, 400, 500]\n",
    "n.reverse()\n",
    "print(n)"
   ]
  },
  {
   "cell_type": "code",
   "execution_count": null,
   "metadata": {},
   "outputs": [],
   "source": [
    "a = ['M', 'na', 'i', 'ke']\n",
    "b = ['y', 'me', 's', 'lly']\n",
    "c = []\n",
    "c.append(a + b)\n",
    "print(c)"
   ]
  },
  {
   "cell_type": "code",
   "execution_count": null,
   "metadata": {},
   "outputs": [],
   "source": [
    "list1 = [3, 6, 9, 12, 15, 18, 21]\n",
    "list2 = [4, 8, 12, 16, 20, 24, 28]\n",
    "list3 = []\n",
    "\n",
    "odd = list1[1::2]\n",
    "print('Odd Elements = ',odd)\n",
    "even = list2[0::2]\n",
    "print('Even Elements = ',even)\n",
    "\n",
    "# list3.append(odd+even)\n",
    "list3.extend(odd)\n",
    "list3.extend(even)\n",
    "print(list3)"
   ]
  },
  {
   "cell_type": "code",
   "execution_count": 1,
   "metadata": {},
   "outputs": [
    {
     "name": "stdout",
     "output_type": "stream",
     "text": [
      "Original List  [34, 54, 67, 89, 11, 43, 94]\n",
      "List After removing Element at index 4  [34, 54, 67, 89, 43, 94]\n",
      "List After adding element at index 2  [34, 54, 11, 67, 89, 43, 94]\n",
      "List after adding element at last  [34, 54, 11, 67, 89, 43, 94, 11]\n"
     ]
    }
   ],
   "source": [
    "olist = [34, 54, 67, 89, 11, 43, 94]\n",
    "print('Original List ',olist)\n",
    "\n",
    "e = olist.pop(4)\n",
    "print('List After removing Element at index 4 ',olist)\n",
    "olist.insert(2, e)\n",
    "print('List After adding element at index 2 ',olist)\n",
    "olist.append(e)\n",
    "print('List after adding element at last ',olist)"
   ]
  },
  {
   "cell_type": "code",
   "execution_count": null,
   "metadata": {},
   "outputs": [],
   "source": [
    "list0 = [10, 20, [300, 400, [5000,6000], 500],30, 40]\n",
    "list0[2][2].append(7000)\n",
    "print(list0)"
   ]
  },
  {
   "cell_type": "code",
   "execution_count": null,
   "metadata": {},
   "outputs": [],
   "source": [
    "a = ['a', 'b', ['c', ['d', 'e', ['f', 'g'], 'k'], 'l'], 'm', 'n']\n",
    "sublist = ['h', 'i', 'j',]\n",
    "sublist1 = [1, 2, 3, 4, 5]\n",
    "a[2][1][2].extend(sublist)\n",
    "a[2][1].extend(sublist1)\n",
    "print(a)"
   ]
  },
  {
   "cell_type": "code",
   "execution_count": null,
   "metadata": {},
   "outputs": [],
   "source": []
  },
  {
   "cell_type": "code",
   "execution_count": 2,
   "metadata": {},
   "outputs": [
    {
     "name": "stdout",
     "output_type": "stream",
     "text": [
      "[5, 10, 15, 20, 25, 50, 20]\n",
      "[5, 10, 15, 200, 25, 50, 20]\n"
     ]
    }
   ],
   "source": [
    "e = [5, 10, 15, 20, 25, 50, 20]\n",
    "print(e)\n",
    "index = e.index(20)\n",
    "e[index] = 200\n",
    "print(e)"
   ]
  },
  {
   "cell_type": "code",
   "execution_count": 3,
   "metadata": {},
   "outputs": [
    {
     "name": "stdout",
     "output_type": "stream",
     "text": [
      "[5, 15, 25, 50]\n"
     ]
    }
   ],
   "source": [
    "list1 = [5, 20, 15, 20, 25, 50, 20]\n",
    "for element in list1:\n",
    "    if element == 20:\n",
    "        list1.remove(element)\n",
    "print(list1)        "
   ]
  },
  {
   "cell_type": "code",
   "execution_count": null,
   "metadata": {},
   "outputs": [],
   "source": [
    "name = 'ram'\n",
    "age = 20\n",
    "def function(x,y):\n",
    "    print(name,age)\n",
    "function(name,age)\n",
    "    "
   ]
  },
  {
   "cell_type": "code",
   "execution_count": null,
   "metadata": {},
   "outputs": [],
   "source": [
    "def func1(*args):\n",
    "    for i in args:\n",
    "        print(i)\n",
    "\n",
    "func1(20, 40, 60)\n",
    "func1(80, 100)"
   ]
  },
  {
   "cell_type": "code",
   "execution_count": null,
   "metadata": {},
   "outputs": [],
   "source": [
    "def calculation(a,b):\n",
    "    return a+b, a-b\n",
    "# result = calculation(40, 10)\n",
    "res1, res2 = calculation(40, 10)\n",
    "print(res1,res2)"
   ]
  },
  {
   "cell_type": "code",
   "execution_count": null,
   "metadata": {},
   "outputs": [],
   "source": [
    "def showEmployee():\n",
    "    name = input('Enter name = ')\n",
    "    salary = int(input('Enter salary = '))\n",
    "    print('Employee', name, 'salary is: ',salary)\n",
    "    if salary == '':\n",
    "        print('Employee', name, 'salary is: ',9000)\n",
    "print(showEmployee())"
   ]
  },
  {
   "cell_type": "code",
   "execution_count": null,
   "metadata": {},
   "outputs": [],
   "source": [
    "def showEmployee(name, salary=9000):\n",
    "    print(\"Employee\", name, \"salary is:\", salary)\n",
    "\n",
    "showEmployee(\"Ben\", 9000)\n",
    "showEmployee(\"Ben\")"
   ]
  },
  {
   "cell_type": "code",
   "execution_count": null,
   "metadata": {},
   "outputs": [],
   "source": [
    "s = []\n",
    "n = int(input('Enter no. of students = '))\n",
    "for a in range(n):\n",
    "    name = input('Enter name = ')\n",
    "    age = int(input('Enter age = '))\n",
    "    address = input('Enter address = ')\n",
    "    phone = int(input('Enter phone = '))\n",
    "    info = [[name,age,address,phone]]\n",
    "    s += info\n",
    "\n",
    "print('Students Info = ',s)\n",
    "stdName = input('Enter Name = ')\n",
    "for i in s:\n",
    "    if stdName.lower() in i[0].lower():\n",
    "        print(i)"
   ]
  },
  {
   "cell_type": "code",
   "execution_count": null,
   "metadata": {},
   "outputs": [],
   "source": [
    "alist = [1,2,3,4,5,6,7]\n",
    "alist = [x*x for x in alist]\n",
    "print(alist)\n",
    "    "
   ]
  },
  {
   "cell_type": "code",
   "execution_count": null,
   "metadata": {},
   "outputs": [],
   "source": [
    "a = [10,20,30,40]\n",
    "b = [100,200,300,400]\n",
    "print(a)\n",
    "b.reverse()\n",
    "print(b)\n",
    "    "
   ]
  },
  {
   "cell_type": "code",
   "execution_count": null,
   "metadata": {},
   "outputs": [],
   "source": [
    "list1 = [10, 20, [300, 400, [5000, 6000], 500], 30, 40]\n",
    "list1[2][2].append([7000])\n",
    "print(list1)"
   ]
  },
  {
   "cell_type": "code",
   "execution_count": null,
   "metadata": {},
   "outputs": [],
   "source": [
    "z = []\n",
    "row = int(input('Enter no.of row = '))\n",
    "column = int(input('Enter no. of column = '))\n",
    "for i in range(row):\n",
    "    y = []\n",
    "    for j in range(column):\n",
    "        a = input('Enter Name = ')\n",
    "        b = int(input('Enter phone = '))\n",
    "        y.append(a )\n",
    "    z.append(y)\n",
    "print(z)\n",
    "        "
   ]
  },
  {
   "cell_type": "code",
   "execution_count": null,
   "metadata": {},
   "outputs": [],
   "source": [
    "a = [1,2,3,4,5,6]\n",
    "print(a)\n",
    "print('The sum is ',sum(a))\n",
    "print('The largest num = ',max(a))\n",
    "print('The smallest num = ',min(a))"
   ]
  },
  {
   "cell_type": "code",
   "execution_count": null,
   "metadata": {},
   "outputs": [],
   "source": [
    "tot = 1\n",
    "for i in a:\n",
    "    tot *= i\n",
    "print(tot)"
   ]
  },
  {
   "cell_type": "code",
   "execution_count": null,
   "metadata": {},
   "outputs": [],
   "source": [
    "b = [(2, 5), (1, 2), (4, 4), (2, 3), (2, 1)]\n",
    "b.sort()\n",
    "print(b)"
   ]
  },
  {
   "cell_type": "code",
   "execution_count": 1,
   "metadata": {},
   "outputs": [
    {
     "name": "stdout",
     "output_type": "stream",
     "text": [
      "Enter no. of items = 2\n",
      "Enter Product = Apple\n",
      "Enter price(per/kg) = 45\n",
      "Enter Quantity = 3\n",
      "Enter Product = Mango\n",
      "Enter price(per/kg) = 55\n",
      "Enter Quantity = 5\n",
      "\n",
      "\n",
      "The Billing is:  [['Apple', 45, 3, 135], ['Mango', 55, 5, 275]]\n",
      "The total = Rs. 410\n"
     ]
    }
   ],
   "source": [
    "s = []\n",
    "n = int(input('Enter no. of items = '))\n",
    "allTotal = 0\n",
    "for i in range(n):\n",
    "    product = input('Enter Product = ')\n",
    "    price = int(input('Enter price(per/kg) = '))\n",
    "    quantity = int(input('Enter Quantity = '))\n",
    "    total = price*quantity\n",
    "    data = [[product,price,quantity,total]]\n",
    "    allTotal = allTotal + total\n",
    "    s = s+data\n",
    "print('\\n')   \n",
    "print('The Billing is: ',s)\n",
    "print('The total = Rs.',allTotal)    "
   ]
  },
  {
   "cell_type": "code",
   "execution_count": 3,
   "metadata": {},
   "outputs": [
    {
     "name": "stdout",
     "output_type": "stream",
     "text": [
      "Enter Product = Grapes\n",
      "Enter Price(per/kg) = 60\n",
      "Enter Quantity = 4\n",
      "\n",
      "\n",
      "[['Apple', 45, 3, 135], ['Mango', 55, 5, 275], ['Milk', 90, 3, 270], ['Grapes', 60, 4, 240]]\n"
     ]
    }
   ],
   "source": [
    "# Adding another list\n",
    "product = input('Enter Product = ')\n",
    "price = int(input('Enter Price(per/kg) = '))\n",
    "quantity = int(input('Enter Quantity = '))\n",
    "total = price*quantity\n",
    "s.append([product,price,quantity,total])\n",
    "print('\\n')\n",
    "print(s)"
   ]
  },
  {
   "cell_type": "code",
   "execution_count": 6,
   "metadata": {},
   "outputs": [
    {
     "name": "stdout",
     "output_type": "stream",
     "text": [
      "Enter index = 4\n",
      "['Grapes', 60, 4, 240]\n",
      "\n",
      "\n",
      "Enter Quantity = 5\n",
      "\n",
      "\n",
      "The new billing is:  [['Apple', 45, 3, 135], ['Mango', 55, 5, 275], ['Milk', 90, 3, 270], ['Grapes', 60, 5, 300]]\n"
     ]
    }
   ],
   "source": [
    "# Changing value in list inside list\n",
    "index = int(input('Enter index = '))\n",
    "# a = [['Apple', 40, 2, 80], ['Mango', 55, 4, 220], ['Milk', 45, 5, 225]]\n",
    "for i in s:\n",
    "    \n",
    "    if index == index:\n",
    "        print(s[index - 1])\n",
    "        print('\\n')\n",
    "        quantity = int(input('Enter Quantity = '))\n",
    "        total = s[index - 1][1]*quantity\n",
    "        s[index - 1][2] = quantity\n",
    "        s[index - 1][3] = total\n",
    "        break\n",
    "print('\\n')\n",
    "print('The new billing is: ',s)\n"
   ]
  },
  {
   "cell_type": "code",
   "execution_count": 1,
   "metadata": {},
   "outputs": [
    {
     "name": "stdout",
     "output_type": "stream",
     "text": [
      "[-8, -4, 0, 4, 8]\n"
     ]
    }
   ],
   "source": [
    "vec = [-4, -2, 0, 2, 4]\n",
    "vec = [x*2 for x in vec]\n",
    "print(vec)"
   ]
  },
  {
   "cell_type": "code",
   "execution_count": 4,
   "metadata": {},
   "outputs": [
    {
     "name": "stdout",
     "output_type": "stream",
     "text": [
      "[-8, -4, 0, 4, 8]\n"
     ]
    }
   ],
   "source": [
    "s = []\n",
    "vec = [-4, -2, 0, 2, 4]\n",
    "for x in vec:\n",
    "    x = x*2\n",
    "    s.append(x)\n",
    "print(s)"
   ]
  },
  {
   "cell_type": "code",
   "execution_count": 6,
   "metadata": {},
   "outputs": [
    {
     "name": "stdout",
     "output_type": "stream",
     "text": [
      "[0, 2, 4]\n"
     ]
    }
   ],
   "source": [
    "vec = [-4, -2, 0, 2, 4]\n",
    "vec = [x for x in vec if x >= 0]\n",
    "print(vec)"
   ]
  },
  {
   "cell_type": "code",
   "execution_count": 12,
   "metadata": {},
   "outputs": [
    {
     "name": "stdout",
     "output_type": "stream",
     "text": [
      "[0, 2, 4]\n"
     ]
    }
   ],
   "source": [
    "s = []\n",
    "vec = [-4, -2, 0, 2, 4]\n",
    "for x in vec:\n",
    "    if x >= 0:\n",
    "        s.append(x)\n",
    "print(s)"
   ]
  },
  {
   "cell_type": "code",
   "execution_count": 14,
   "metadata": {},
   "outputs": [
    {
     "name": "stdout",
     "output_type": "stream",
     "text": [
      "[4, 2, 0, 2, 4]\n"
     ]
    }
   ],
   "source": [
    "vec = [-4, -2, 0, 2, 4]\n",
    "vec = [abs(x) for x in vec]\n",
    "print(vec)"
   ]
  },
  {
   "cell_type": "code",
   "execution_count": 17,
   "metadata": {},
   "outputs": [],
   "source": [
    "vec = [-4, -2, 0, 2, 4]\n",
    "for x in vec:\n",
    "    def abs(x):\n",
    "        print(x)"
   ]
  },
  {
   "cell_type": "code",
   "execution_count": 25,
   "metadata": {},
   "outputs": [
    {
     "name": "stdout",
     "output_type": "stream",
     "text": [
      "3\n"
     ]
    }
   ],
   "source": [
    "strg = 'Jasonay'\n",
    "middleStr = int(len(strg)/2)\n",
    "print(middleStr)\n"
   ]
  },
  {
   "cell_type": "code",
   "execution_count": null,
   "metadata": {},
   "outputs": [],
   "source": []
  },
  {
   "cell_type": "code",
   "execution_count": null,
   "metadata": {},
   "outputs": [],
   "source": []
  },
  {
   "cell_type": "code",
   "execution_count": 27,
   "metadata": {},
   "outputs": [
    {
     "name": "stdout",
     "output_type": "stream",
     "text": [
      "Mix String is  AJrpan\n"
     ]
    }
   ],
   "source": [
    "def mix_string(s1,s2):\n",
    "    first_char = s1[:1] + s2[:1]\n",
    "    middle_char = s1[int(len(s1)/2):int(len(s1)/2) + 1] + s2[int(len(s2)/2):int(len(s2)/2)+ 1]\n",
    "    last_char = s1[len(s1) - 1] + s2[len(s2) - 1]\n",
    "    res = first_char + middle_char + last_char\n",
    "    print('Mix String is ', res)\n",
    "    \n",
    "s1 = 'America'\n",
    "s2 = 'Japan'\n",
    "mix_string(s1,s2)"
   ]
  },
  {
   "cell_type": "code",
   "execution_count": 8,
   "metadata": {},
   "outputs": [
    {
     "name": "stdout",
     "output_type": "stream",
     "text": [
      "Enter Something = australia\n",
      "Enter anotherthing = korea\n",
      "The mix of 1st, mid and last char:  akrraa\n"
     ]
    }
   ],
   "source": [
    "s1 = input('Enter Something = ')\n",
    "s2 = input('Enter anotherthing = ')\n",
    "for i in s1,s2:\n",
    "    a = s1[:1] + s2[:1]\n",
    "    mid = s1[int(len(s1)/2)] + s2[int(len(s2)/2)]\n",
    "    b = s1[-1] + s2[-1]\n",
    "    c = a + mid + b\n",
    "print('The mix of 1st, mid and last char: ',c)\n"
   ]
  },
  {
   "cell_type": "code",
   "execution_count": 52,
   "metadata": {},
   "outputs": [
    {
     "name": "stdout",
     "output_type": "stream",
     "text": [
      "mix char.  abplel\n"
     ]
    }
   ],
   "source": [
    "s1 = 'apple'\n",
    "s2 = 'ball'\n",
    "def mix(s1,s2):\n",
    "    first = s1[:1] + s2[:1]\n",
    "    middle = s1[int(len(s1)/2)] + s2[int(len(s2)/2)]\n",
    "    last = s1[len(s1)-1] + s2[len(s2)-1]\n",
    "    result = first + middle + last\n",
    "    print('mix char. ', result)\n",
    "    \n",
    "mix(s1,s2)"
   ]
  },
  {
   "cell_type": "code",
   "execution_count": 8,
   "metadata": {},
   "outputs": [
    {
     "name": "stdout",
     "output_type": "stream",
     "text": [
      "yaivePNT\n"
     ]
    }
   ],
   "source": [
    "str1 = 'PyNaTive'\n",
    "a = []\n",
    "b = []\n",
    "for i in str1:\n",
    "    if i.islower():\n",
    "        a.append(i)\n",
    "    else:\n",
    "        b.append(i)\n",
    "c = ''.join(a+b)\n",
    "print(c)"
   ]
  },
  {
   "cell_type": "code",
   "execution_count": 8,
   "metadata": {},
   "outputs": [
    {
     "name": "stdout",
     "output_type": "stream",
     "text": [
      "Enter Anything = dsfd45@@\n",
      "total counts of chars, digits,and symbols\n",
      "Chars = 4 Digits = 2 Symbol = 2\n"
     ]
    }
   ],
   "source": [
    "str1 = input('Enter Anything = ')\n",
    "def findWords(str1):\n",
    "    charCount = 0\n",
    "    digitCount = 0\n",
    "    symbolCount = 0\n",
    "    for char in str1:\n",
    "        if char.islower() or char.isupper():\n",
    "            charCount += 1\n",
    "        elif char.isnumeric():\n",
    "            digitCount += 1\n",
    "        else:\n",
    "            symbolCount += 1\n",
    "    print(f'Chars = {charCount} Digits = {digitCount} Symbol = {symbolCount}')\n",
    "print(\"total counts of chars, digits and symbols\")\n",
    "findWords(str1)\n",
    "    "
   ]
  },
  {
   "cell_type": "code",
   "execution_count": 9,
   "metadata": {},
   "outputs": [
    {
     "name": "stdout",
     "output_type": "stream",
     "text": [
      "Enter Anything = df54@\n",
      "Char = 2 Digits = 2 Symbol = 1\n"
     ]
    }
   ],
   "source": [
    "str1 = input('Enter Anything = ')\n",
    "charCount = 0\n",
    "digitCount = 0\n",
    "symbolCount = 0\n",
    "for i in str1:\n",
    "    if i.islower() or i.isupper():\n",
    "        charCount += 1\n",
    "    elif i.isnumeric():\n",
    "        digitCount += 1\n",
    "    else:\n",
    "        symbolCount += 1\n",
    "print(f'Char = {charCount} Digits = {digitCount} Symbol = {symbolCount}')"
   ]
  },
  {
   "cell_type": "code",
   "execution_count": 24,
   "metadata": {},
   "outputs": [
    {
     "name": "stdout",
     "output_type": "stream",
     "text": [
      "Enter count = usa\n",
      "2\n"
     ]
    }
   ],
   "source": [
    "str1 = \"Welcome to USA. usa awesome, isn't it?\".lower()\n",
    "s = input('Enter count = ').lower()\n",
    "if s in str1:\n",
    "    print(str1.count(s))"
   ]
  },
  {
   "cell_type": "code",
   "execution_count": 38,
   "metadata": {},
   "outputs": [
    {
     "name": "stdout",
     "output_type": "stream",
     "text": [
      "['Emma', 'Jon', 'Kelly', 'Eric']\n"
     ]
    }
   ],
   "source": [
    "str_list = [\"Emma\", \"Jon\", \"\", \"Kelly\", None, \"Eric\", \"\"]\n",
    "new = list(filter(None, str_list))\n",
    "print(new)"
   ]
  },
  {
   "cell_type": "code",
   "execution_count": 27,
   "metadata": {},
   "outputs": [
    {
     "name": "stdout",
     "output_type": "stream",
     "text": [
      "Enter Weight = 78\n",
      "(K)g or (L)bs: k\n",
      "The Weight =  173.33333333333334 pounds\n"
     ]
    }
   ],
   "source": [
    "weight = int(input('Enter Weight = '))\n",
    "unit = input('(K)g or (L)bs: ')\n",
    "if unit.upper() == \"K\":\n",
    "    convert = weight / 0.45\n",
    "    print('The Weight = ',convert,'pounds')\n",
    "else:\n",
    "    convert = weight * 0.45\n",
    "    print('The weight = ',convert,'kg')"
   ]
  },
  {
   "cell_type": "code",
   "execution_count": 2,
   "metadata": {},
   "outputs": [
    {
     "name": "stdout",
     "output_type": "stream",
     "text": [
      "Guess: 7\n",
      "Guess: 8\n",
      "Guess: 2\n",
      "You Failed!! Try Again!!\n"
     ]
    }
   ],
   "source": [
    "# Guess The Number Game\n",
    "import random\n",
    "secret_num = random.randint(1, 10)\n",
    "guess_count = 0\n",
    "while guess_count < 3:\n",
    "    guess = int(input('Guess: '))\n",
    "    guess_count += 1\n",
    "    if guess == secret_num:\n",
    "        print('You Won!')\n",
    "        break\n",
    "else:\n",
    "    print('You Failed!! Try Again!!')\n",
    "        \n",
    "        "
   ]
  },
  {
   "cell_type": "code",
   "execution_count": 33,
   "metadata": {},
   "outputs": [
    {
     "name": "stdout",
     "output_type": "stream",
     "text": [
      "Guess: 1\n",
      "Guess: 0\n",
      "Guess: 9\n",
      "You Won!\n"
     ]
    }
   ],
   "source": [
    "import random\n",
    "secretnum = random.randint(1,10)\n",
    "for count in range(3):\n",
    "    guess = int(input('Guess: '))\n",
    "    count += 1\n",
    "    if guess == secretnum:\n",
    "        print('You Won!')\n",
    "        break\n",
    "else:\n",
    "    print('You Failed! Try Again!!')"
   ]
  },
  {
   "cell_type": "code",
   "execution_count": 1,
   "metadata": {},
   "outputs": [
    {
     "name": "stdout",
     "output_type": "stream",
     "text": [
      "> start\n",
      "Car Started...\n",
      "> start\n",
      "Car is already Started\n",
      "> start\n",
      "Car is already Started\n",
      "> stop\n",
      "Car is already Stopped\n",
      "Car Stopped\n",
      "> stop\n",
      "Car is already Stopped\n",
      "Car Stopped\n",
      "> quit\n"
     ]
    }
   ],
   "source": [
    "command = \"\"\n",
    "started = False\n",
    "while True:\n",
    "    command = input(\"> \").lower()\n",
    "    if command == \"start\":\n",
    "        if started:\n",
    "            print(\"Car is already Started\")\n",
    "        else:\n",
    "            started = True\n",
    "            print(\"Car Started...\")\n",
    "    elif command == \"stop\":\n",
    "        if not started:\n",
    "            print(\"Car is already Stopped\")\n",
    "        else:\n",
    "            started = False\n",
    "            print(\"Car is already Stopped\")\n",
    "        print(\"Car Stopped\")\n",
    "    elif command == \"help\":\n",
    "        print(\"\"\"\n",
    "start - to start the car\n",
    "stop - to stop the car\n",
    "quit - to quit\n",
    "        \"\"\")\n",
    "    elif command == \"quit\":\n",
    "        break\n",
    "    else:\n",
    "        print(\"Sorry! I don't Understand that\")\n",
    "        "
   ]
  },
  {
   "cell_type": "code",
   "execution_count": 2,
   "metadata": {},
   "outputs": [
    {
     "name": "stdout",
     "output_type": "stream",
     "text": [
      "Total:  60\n"
     ]
    }
   ],
   "source": [
    "prices = [10, 20, 30]\n",
    "total = 0\n",
    "for items in prices:\n",
    "    total += items\n",
    "print('Total: ',total)"
   ]
  },
  {
   "cell_type": "code",
   "execution_count": 5,
   "metadata": {},
   "outputs": [
    {
     "name": "stdout",
     "output_type": "stream",
     "text": [
      "(0,0)\n",
      "(0,1)\n",
      "(1,0)\n",
      "(1,1)\n",
      "(2,0)\n",
      "(2,1)\n"
     ]
    }
   ],
   "source": [
    "for i in range(3):\n",
    "    for j in range(2):\n",
    "        print(f'({i},{j})')\n",
    "        "
   ]
  },
  {
   "cell_type": "code",
   "execution_count": 7,
   "metadata": {},
   "outputs": [
    {
     "name": "stdout",
     "output_type": "stream",
     "text": [
      "XXXXX\n",
      "X\n",
      "XXXXX\n",
      "X\n",
      "X\n"
     ]
    }
   ],
   "source": [
    "num = [5,1,5,1,1]\n",
    "for x_count in num:\n",
    "    output = ''\n",
    "    for count in range(x_count):\n",
    "        output += 'X'\n",
    "    print(output)\n"
   ]
  },
  {
   "cell_type": "code",
   "execution_count": 13,
   "metadata": {},
   "outputs": [
    {
     "name": "stdout",
     "output_type": "stream",
     "text": [
      "Largest num:  88\n"
     ]
    }
   ],
   "source": [
    "names = [10,55,67,88,33,24,55]\n",
    "print('Largest num: ',max(names))\n"
   ]
  },
  {
   "cell_type": "code",
   "execution_count": 26,
   "metadata": {},
   "outputs": [
    {
     "name": "stdout",
     "output_type": "stream",
     "text": [
      "[1, 2, 3, 4]\n"
     ]
    }
   ],
   "source": [
    "num = [1,2,3,4,3,2]\n",
    "s = []\n",
    "for i in num:\n",
    "    if i not in s:\n",
    "        s.append(i)\n",
    "print(s)"
   ]
  },
  {
   "cell_type": "code",
   "execution_count": 2,
   "metadata": {},
   "outputs": [
    {
     "name": "stdout",
     "output_type": "stream",
     "text": [
      "Enter Num = 60\n",
      "Enter Num = 67\n",
      "The result is  127\n"
     ]
    }
   ],
   "source": [
    "num1 = int(input(\"Enter Num = \"))\n",
    "num2 = int(input(\"Enter Num = \"))\n",
    "def cal(x,y):\n",
    "    product = num1 * num2\n",
    "    if product >= 1000:\n",
    "        product = num1 + num2\n",
    "        return product\n",
    "    else:\n",
    "        return product\n",
    "result = cal(num1,num2)\n",
    "print('The result is ',result)"
   ]
  },
  {
   "cell_type": "code",
   "execution_count": 4,
   "metadata": {},
   "outputs": [
    {
     "name": "stdout",
     "output_type": "stream",
     "text": [
      "Current Number  0 Previous Number  0 Sum =  0\n",
      "Current Number  1 Previous Number  0 Sum =  1\n",
      "Current Number  2 Previous Number  1 Sum =  3\n",
      "Current Number  3 Previous Number  2 Sum =  5\n",
      "Current Number  4 Previous Number  3 Sum =  7\n",
      "Current Number  5 Previous Number  4 Sum =  9\n",
      "Current Number  6 Previous Number  5 Sum =  11\n",
      "Current Number  7 Previous Number  6 Sum =  13\n",
      "Current Number  8 Previous Number  7 Sum =  15\n",
      "Current Number  9 Previous Number  8 Sum =  17\n"
     ]
    }
   ],
   "source": [
    "def sum_num(num):\n",
    "    previousNum = 0\n",
    "    for i in range(num):\n",
    "        sum = previousNum + i\n",
    "        print(\"Current Number \", i , \"Previous Number \", previousNum, \"Sum = \",sum)\n",
    "        previousNum = i\n",
    "        \n",
    "sum_num(10)"
   ]
  },
  {
   "cell_type": "code",
   "execution_count": 41,
   "metadata": {},
   "outputs": [
    {
     "name": "stdout",
     "output_type": "stream",
     "text": [
      "Original string is  pynatives\n",
      "Printing only even index chars:\n",
      "p\n",
      "n\n",
      "t\n",
      "v\n",
      "s\n"
     ]
    }
   ],
   "source": [
    "# a = input(\"Enter Word: \")\n",
    "a = \"pynatives\"\n",
    "print(\"Original string is \",a)\n",
    "print(\"Printing only even index chars:\")\n",
    "\n",
    "for i in a[0:9:2]:\n",
    "    print(i)"
   ]
  },
  {
   "cell_type": "code",
   "execution_count": 13,
   "metadata": {},
   "outputs": [
    {
     "data": {
      "text/plain": [
       "False"
      ]
     },
     "execution_count": 13,
     "metadata": {},
     "output_type": "execute_result"
    }
   ],
   "source": [
    "numlist = [10, 20, 30, 40, 20]\n",
    "def alist(numberlist):\n",
    "    firstnum = numberlist[0]\n",
    "    lastnum = numberlist[-1]\n",
    "    if firstnum==lastnum:\n",
    "        return True\n",
    "    else:\n",
    "        return False\n",
    "alist(numlist)"
   ]
  },
  {
   "cell_type": "code",
   "execution_count": 14,
   "metadata": {},
   "outputs": [
    {
     "name": "stdout",
     "output_type": "stream",
     "text": [
      "10\n",
      "20\n",
      "55\n"
     ]
    }
   ],
   "source": [
    "list1 = [10, 20, 33, 46, 55]\n",
    "for i in list1:\n",
    "    if i % 5 == 0:\n",
    "        print(i)"
   ]
  },
  {
   "cell_type": "code",
   "execution_count": 19,
   "metadata": {},
   "outputs": [
    {
     "name": "stdout",
     "output_type": "stream",
     "text": [
      "2\n"
     ]
    }
   ],
   "source": [
    "gstr =  'Emma is good developer. Emma is a writer'\n",
    "a = gstr.count('Emma')\n",
    "print(a)"
   ]
  },
  {
   "cell_type": "code",
   "execution_count": 28,
   "metadata": {},
   "outputs": [
    {
     "name": "stdout",
     "output_type": "stream",
     "text": [
      "\n",
      "1 \n",
      "2 2 \n",
      "3 3 3 \n",
      "4 4 4 4 \n"
     ]
    }
   ],
   "source": [
    "for num in range(5):\n",
    "    for i in range(num):\n",
    "        print(num, end = ' ')\n",
    "    print('')"
   ]
  },
  {
   "cell_type": "code",
   "execution_count": 29,
   "metadata": {},
   "outputs": [
    {
     "name": "stdout",
     "output_type": "stream",
     "text": [
      "Number Pattern\n",
      "1 \n",
      "1 2 \n",
      "1 2 3 \n",
      "1 2 3 4 \n",
      "1 2 3 4 5 \n",
      "1 2 3 4 5 6 \n"
     ]
    }
   ],
   "source": [
    "print('Number Pattern')\n",
    "lastNum = 7\n",
    "for row in range(1, lastNum):\n",
    "    for column in range(1, row+1):\n",
    "        print(column, end = ' ')\n",
    "    print('')    "
   ]
  },
  {
   "cell_type": "code",
   "execution_count": 35,
   "metadata": {},
   "outputs": [
    {
     "name": "stdout",
     "output_type": "stream",
     "text": [
      "24\n"
     ]
    }
   ],
   "source": [
    "aList = [4, 6, 8, 24, 12, 2]\n",
    "print(max(aList))"
   ]
  },
  {
   "cell_type": "code",
   "execution_count": 4,
   "metadata": {},
   "outputs": [
    {
     "name": "stdout",
     "output_type": "stream",
     "text": [
      "[4, 6, 8, 10, 12, 14, 16, 18, 20, 22, 24, 26, 28]\n"
     ]
    }
   ],
   "source": [
    "a = []\n",
    "for i in range(4,30):\n",
    "    if i % 2 == 0:\n",
    "        a.append(i)\n",
    "print(a)"
   ]
  },
  {
   "cell_type": "code",
   "execution_count": 3,
   "metadata": {},
   "outputs": [
    {
     "name": "stdout",
     "output_type": "stream",
     "text": [
      "[5, 15, 25, 50]\n"
     ]
    }
   ],
   "source": [
    "list1 = [5, 20, 15, 20, 25, 50, 20]\n",
    "for i in list1:\n",
    "    if i == 20:\n",
    "        list1.remove(20)\n",
    "print(list1)"
   ]
  },
  {
   "cell_type": "code",
   "execution_count": 7,
   "metadata": {},
   "outputs": [
    {
     "data": {
      "text/plain": [
       "(50, 40, 30, 20, 10)"
      ]
     },
     "execution_count": 7,
     "metadata": {},
     "output_type": "execute_result"
    }
   ],
   "source": [
    "a = (10, 20, 30, 40, 50)\n",
    "a[::-1]"
   ]
  },
  {
   "cell_type": "code",
   "execution_count": 8,
   "metadata": {},
   "outputs": [
    {
     "data": {
      "text/plain": [
       "20"
      ]
     },
     "execution_count": 8,
     "metadata": {},
     "output_type": "execute_result"
    }
   ],
   "source": [
    "a = (\"Orange\", [10, 20, 30], (5, 15, 25))\n",
    "a[1][1]"
   ]
  },
  {
   "cell_type": "code",
   "execution_count": 10,
   "metadata": {},
   "outputs": [
    {
     "data": {
      "text/plain": [
       "(50,)"
      ]
     },
     "execution_count": 10,
     "metadata": {},
     "output_type": "execute_result"
    }
   ],
   "source": [
    "a = (50,)\n",
    "a"
   ]
  },
  {
   "cell_type": "code",
   "execution_count": 15,
   "metadata": {},
   "outputs": [
    {
     "name": "stdout",
     "output_type": "stream",
     "text": [
      "10\n",
      "20\n"
     ]
    }
   ],
   "source": [
    "aTuple = (10, 20, 30, 40)\n",
    "a,b,c,d = aTuple\n",
    "print(a)\n",
    "print(b)\n"
   ]
  },
  {
   "cell_type": "code",
   "execution_count": 4,
   "metadata": {},
   "outputs": [
    {
     "name": "stdout",
     "output_type": "stream",
     "text": [
      "(99, 88)\n",
      "(11, 22)\n"
     ]
    }
   ],
   "source": [
    "tuple1 = (11, 22)\n",
    "tuple2 = (99, 88)\n",
    "tuple1,tuple2 = tuple2,tuple1\n",
    "print(tuple1)\n",
    "print(tuple2)"
   ]
  },
  {
   "cell_type": "code",
   "execution_count": 6,
   "metadata": {},
   "outputs": [
    {
     "data": {
      "text/plain": [
       "(44, 55)"
      ]
     },
     "execution_count": 6,
     "metadata": {},
     "output_type": "execute_result"
    }
   ],
   "source": [
    "tuple1 = (11, 22, 33, 44, 55, 66)\n",
    "tuple2 = tuple1[3:-1]\n",
    "tuple2"
   ]
  },
  {
   "cell_type": "code",
   "execution_count": 7,
   "metadata": {},
   "outputs": [
    {
     "data": {
      "text/plain": [
       "(11, [222, 33], 44, 55)"
      ]
     },
     "execution_count": 7,
     "metadata": {},
     "output_type": "execute_result"
    }
   ],
   "source": [
    "a = (11, [22, 33], 44, 55)\n",
    "a[1][0]=222\n",
    "a"
   ]
  },
  {
   "cell_type": "code",
   "execution_count": 8,
   "metadata": {},
   "outputs": [
    {
     "data": {
      "text/plain": [
       "2"
      ]
     },
     "execution_count": 8,
     "metadata": {},
     "output_type": "execute_result"
    }
   ],
   "source": [
    "a = (50, 10, 60, 70, 50)\n",
    "a.count(50)"
   ]
  },
  {
   "cell_type": "code",
   "execution_count": 11,
   "metadata": {},
   "outputs": [
    {
     "name": "stdout",
     "output_type": "stream",
     "text": [
      "True\n"
     ]
    }
   ],
   "source": [
    "tuple1 = (45, 45, 45, 45)\n",
    "for i in tuple1:\n",
    "    if i == 45:\n",
    "        print(True)\n",
    "        break"
   ]
  },
  {
   "cell_type": "code",
   "execution_count": 12,
   "metadata": {},
   "outputs": [
    {
     "name": "stdout",
     "output_type": "stream",
     "text": [
      "OddElements:  [6, 12, 18]\n",
      "EvenElements:  [4, 12, 20, 28]\n",
      "Final List:  [6, 12, 18, 4, 12, 20, 28]\n"
     ]
    }
   ],
   "source": [
    "one = [3, 6, 9, 12, 15, 18, 21]\n",
    "two = [4, 8, 12, 16, 20, 24, 28]\n",
    "a = []\n",
    "odd = one[1::2]\n",
    "print('OddElements: ',odd)\n",
    "even = two[0::2]\n",
    "print('EvenElements: ',even)\n",
    "a.extend(odd)\n",
    "a.extend(even)\n",
    "print('Final List: ',a)\n",
    "    \n"
   ]
  },
  {
   "cell_type": "code",
   "execution_count": 22,
   "metadata": {},
   "outputs": [
    {
     "name": "stdout",
     "output_type": "stream",
     "text": [
      "Original Lists:  [54, 44, 27, 79, 91, 41]\n",
      "List after removing at index 4:  [54, 44, 27, 79, 41]\n",
      "List after Adding element at index 2:  [54, 44, 91, 27, 79, 41]\n",
      "List after Adding at Last:  [54, 44, 91, 27, 79, 41, 91]\n"
     ]
    }
   ],
   "source": [
    "List = [54, 44, 27, 79, 91, 41]\n",
    "print('Original Lists: ',List)\n",
    "element = List.pop(4)\n",
    "print('List after removing at index 4: ',List)\n",
    "List.insert(2,element)\n",
    "print('List after Adding element at index 2: ',List)\n",
    "List.append(element)\n",
    "print('List after Adding at Last: ',List)"
   ]
  },
  {
   "cell_type": "code",
   "execution_count": 24,
   "metadata": {},
   "outputs": [
    {
     "name": "stdout",
     "output_type": "stream",
     "text": [
      "{11: 2, 45: 3, 8: 1, 23: 2, 89: 1}\n"
     ]
    }
   ],
   "source": [
    "a = [11, 45, 8, 11, 23, 45, 23, 45, 89]\n",
    "b = {}\n",
    "for i in a:\n",
    "    if i in b:\n",
    "        b[i] += 1\n",
    "    else:\n",
    "        b[i]= 1\n",
    "        \n",
    "print(b)\n"
   ]
  }
 ],
 "metadata": {
  "kernelspec": {
   "display_name": "Python 3",
   "language": "python",
   "name": "python3"
  },
  "language_info": {
   "codemirror_mode": {
    "name": "ipython",
    "version": 3
   },
   "file_extension": ".py",
   "mimetype": "text/x-python",
   "name": "python",
   "nbconvert_exporter": "python",
   "pygments_lexer": "ipython3",
   "version": "3.8.5"
  }
 },
 "nbformat": 4,
 "nbformat_minor": 4
}
