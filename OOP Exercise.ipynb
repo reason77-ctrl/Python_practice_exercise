{
 "cells": [
  {
   "cell_type": "code",
   "execution_count": 2,
   "metadata": {},
   "outputs": [
    {
     "name": "stdout",
     "output_type": "stream",
     "text": [
      "Max_speed is:  240\n",
      "Mileage is:  20\n"
     ]
    }
   ],
   "source": [
    "class Vehicle:\n",
    "    def __init__(self,max_speed,mileage):\n",
    "        self.s = max_speed\n",
    "        self.m = mileage\n",
    "        \n",
    "car = Vehicle(240,20)\n",
    "print('Max_speed is: ',car.s)\n",
    "print('Mileage is: ',car.m)"
   ]
  },
  {
   "cell_type": "code",
   "execution_count": 3,
   "metadata": {},
   "outputs": [],
   "source": [
    "class Vehicle:\n",
    "    pass"
   ]
  },
  {
   "cell_type": "code",
   "execution_count": 7,
   "metadata": {},
   "outputs": [
    {
     "name": "stdout",
     "output_type": "stream",
     "text": [
      "Name: Volvo Speed: 180 Mileage: 30\n"
     ]
    }
   ],
   "source": [
    "class Vehicle:\n",
    "    def __init__(self, name,max_speed,mileage):\n",
    "        self.n = name\n",
    "        self.s = max_speed\n",
    "        self.m = mileage\n",
    "class Bus(Vehicle):\n",
    "        pass\n",
    "    \n",
    "bus = Bus('Volvo', 180, 30)\n",
    "print('Name:',bus.n, 'Speed:',bus.s, 'Mileage:',bus.m)\n"
   ]
  },
  {
   "cell_type": "code",
   "execution_count": 9,
   "metadata": {},
   "outputs": [
    {
     "name": "stdout",
     "output_type": "stream",
     "text": [
      "The seating capacity of a Volvo is 50 passengers\n"
     ]
    }
   ],
   "source": [
    "class Vehicle:\n",
    "    def __init__(self, name, max_speed, mileage):\n",
    "        self.name = name\n",
    "        self.max_speed = max_speed\n",
    "        self.mileage = mileage\n",
    "\n",
    "    def seating_capacity(self, capacity):\n",
    "        return f\"The seating capacity of a {self.name} is {capacity} passengers\"\n",
    "    \n",
    "class Bus(Vehicle):\n",
    "    def seating_capacity(self,capacity = 50):\n",
    "        return super().seating_capacity(capacity=50)\n",
    "    \n",
    "bus = Bus('Volvo', 180, 12)\n",
    "print(bus.seating_capacity())\n",
    "    \n",
    "    "
   ]
  },
  {
   "cell_type": "code",
   "execution_count": 10,
   "metadata": {},
   "outputs": [
    {
     "name": "stdout",
     "output_type": "stream",
     "text": [
      "White Volvo Speed: 180 Mileage: 20\n",
      "White Audi Speed: 250 Mileage: 25\n"
     ]
    }
   ],
   "source": [
    "class Vehicle:\n",
    "    #class attribute\n",
    "    color = 'White'\n",
    "\n",
    "    def __init__(self, name, max_speed, mileage):\n",
    "        self.name = name\n",
    "        self.max_speed = max_speed\n",
    "        self.mileage = mileage\n",
    "\n",
    "class Bus(Vehicle):\n",
    "    pass\n",
    "\n",
    "class Car(Vehicle):\n",
    "    pass\n",
    "\n",
    "bus = Bus('Volvo',180,20)\n",
    "print(bus.color,bus.name, 'Speed:',bus.max_speed, 'Mileage:',bus.mileage)\n",
    "\n",
    "car = Car('Audi',250,25)\n",
    "print(car.color, car.name, 'Speed:',car.max_speed, 'Mileage:',car.mileage)\n"
   ]
  },
  {
   "cell_type": "code",
   "execution_count": 3,
   "metadata": {},
   "outputs": [
    {
     "name": "stdout",
     "output_type": "stream",
     "text": [
      "Total Bus fare is: 5500.0\n"
     ]
    }
   ],
   "source": [
    "class Vehicle:\n",
    "    def __init__(self,name,mileage,capacity):\n",
    "        self.name = name\n",
    "        self.mileage = mileage\n",
    "        self.capacity = capacity\n",
    "        \n",
    "    def fare(self):\n",
    "        return self.capacity * 100\n",
    "    \n",
    "class Bus(Vehicle):\n",
    "    def fare(self):\n",
    "        amount = super().fare()\n",
    "        amount += amount * 10 / 100\n",
    "        return amount\n",
    "        \n",
    "\n",
    "bus = Bus('Vlvo',12,50)\n",
    "print('Total Bus fare is:',bus.fare())"
   ]
  },
  {
   "cell_type": "code",
   "execution_count": 9,
   "metadata": {},
   "outputs": [
    {
     "name": "stdout",
     "output_type": "stream",
     "text": [
      "<class '__main__.Bus'>\n"
     ]
    }
   ],
   "source": [
    "class Vehicle:\n",
    "    def __init__(self, name, mileage, capacity):\n",
    "        self.name = name\n",
    "        self.mileage = mileage\n",
    "        self.capacity = capacity\n",
    "\n",
    "class Bus(Vehicle):\n",
    "    pass\n",
    "\n",
    "bus = Bus(\"School Volvo\", 12, 50)\n",
    "print(type(bus))"
   ]
  },
  {
   "cell_type": "code",
   "execution_count": 12,
   "metadata": {},
   "outputs": [
    {
     "name": "stdout",
     "output_type": "stream",
     "text": [
      "True\n"
     ]
    }
   ],
   "source": [
    "class Vehicle:\n",
    "    def __init__(self, name, mileage, capacity):\n",
    "        self.name = name\n",
    "        self.mileage = mileage\n",
    "        self.capacity = capacity\n",
    "\n",
    "class Bus(Vehicle):\n",
    "    pass\n",
    "\n",
    "bus = Bus(\"School Volvo\", 12, 50)\n",
    "print(isinstance(bus, Vehicle))\n"
   ]
  },
  {
   "cell_type": "code",
   "execution_count": 6,
   "metadata": {},
   "outputs": [
    {
     "name": "stdout",
     "output_type": "stream",
     "text": [
      "Enter radius = 5\n",
      "Volume of sphere =  523.3333333333334\n",
      "Surface Area of sphere =  314.0\n"
     ]
    }
   ],
   "source": [
    "# Volume and surface area of Sphere\n",
    "class Sphere:\n",
    "    def __init__(self,radius):\n",
    "        self.radius = radius\n",
    "        \n",
    "    def volume(self):\n",
    "        vol = (4/3) * 3.14 * self.radius**3\n",
    "        print('Volume of sphere = ',vol)\n",
    "    \n",
    "    def surface_area(self):\n",
    "        s_area = 4 * 3.14 * self.radius**2\n",
    "        print('Surface Area of sphere = ',s_area)\n",
    "\n",
    "r = int(input('Enter radius = '))\n",
    "obj = Sphere(r)\n",
    "obj.volume()\n",
    "obj.surface_area()"
   ]
  },
  {
   "cell_type": "code",
   "execution_count": 7,
   "metadata": {},
   "outputs": [
    {
     "name": "stdout",
     "output_type": "stream",
     "text": [
      "Resetting random number\n",
      "Enter number = 9\n",
      "Correct!!\n"
     ]
    }
   ],
   "source": [
    "import random\n",
    "class GuessingGame:\n",
    "    def __init__(self):\n",
    "        self.rand_choice = random.randint(0,10)\n",
    "        \n",
    "    def reset_random(self):\n",
    "        print('Resetting random number')\n",
    "        self.rand_choice = random.randint(0,10)\n",
    "        \n",
    "    def guess(self):\n",
    "        user_guess = int(input('Enter number = '))\n",
    "        \n",
    "        if user_guess == self.rand_choice:\n",
    "            print('Correct!!')\n",
    "        else:\n",
    "            print('Wrong Guess##')\n",
    "        \n",
    "g = GuessingGame()\n",
    "g.rand_choice\n",
    "g.reset_random()\n",
    "g.guess()"
   ]
  }
 ],
 "metadata": {
  "kernelspec": {
   "display_name": "Python 3",
   "language": "python",
   "name": "python3"
  },
  "language_info": {
   "codemirror_mode": {
    "name": "ipython",
    "version": 3
   },
   "file_extension": ".py",
   "mimetype": "text/x-python",
   "name": "python",
   "nbconvert_exporter": "python",
   "pygments_lexer": "ipython3",
   "version": "3.8.5"
  }
 },
 "nbformat": 4,
 "nbformat_minor": 4
}
