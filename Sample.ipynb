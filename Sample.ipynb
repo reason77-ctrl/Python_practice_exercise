{
 "cells": [
  {
   "cell_type": "code",
   "execution_count": null,
   "metadata": {},
   "outputs": [],
   "source": [
    "# BMI Calculator"
   ]
  },
  {
   "cell_type": "code",
   "execution_count": null,
   "metadata": {},
   "outputs": [],
   "source": [
    "name = input('Name = ')\n",
    "height = float(input('Height(m) = '))\n",
    "weight = float(input('Weight(kg) = '))\n",
    "bmi = weight / (height **2)\n",
    "print('bmi = ' ,bmi)\n",
    "if bmi < 25:\n",
    "    print('Hence,')\n",
    "    print( name + ' is not overweight.')\n",
    "else:\n",
    "    print('Hence,')\n",
    "    print(name + ' is overweight.')\n"
   ]
  },
  {
   "cell_type": "code",
   "execution_count": null,
   "metadata": {},
   "outputs": [],
   "source": [
    "# Miles to Kilometer converter"
   ]
  },
  {
   "cell_type": "code",
   "execution_count": null,
   "metadata": {},
   "outputs": [],
   "source": [
    "miles = int(input(\"Miles = \"))\n",
    "\n",
    "def convert(miles):\n",
    "    return 1.6 * miles\n",
    "\n",
    "print(convert(miles), \"km\")"
   ]
  },
  {
   "cell_type": "code",
   "execution_count": null,
   "metadata": {},
   "outputs": [],
   "source": [
    "# Max of three finder program"
   ]
  },
  {
   "cell_type": "code",
   "execution_count": null,
   "metadata": {},
   "outputs": [],
   "source": [
    "def max_of_two(x,y):\n",
    "    if x > y:\n",
    "        return x\n",
    "    return y\n",
    "\n",
    "def max_of_three(x,y,z):\n",
    "    return max_of_two(x, max_of_two(y,z))\n",
    "\n",
    "a = max_of_three(1, 2, 3)\n",
    "print(a)"
   ]
  },
  {
   "cell_type": "code",
   "execution_count": null,
   "metadata": {},
   "outputs": [],
   "source": [
    "#calculator using return type function\n",
    "\n",
    "def calculate():\n",
    "    a = int(input('Enter Num1 = '))\n",
    "    o = input('Enter operator (+ - * /) = ')\n",
    "    b = int(input('Enter Num2 = '))\n",
    "\n",
    "    if o == '+':\n",
    "        return (a+b)\n",
    "    elif o == '-':\n",
    "        return (a-b)\n",
    "    elif o == '*':\n",
    "        return (a*b)\n",
    "    elif o == '/':\n",
    "        if b != 0:\n",
    "            return (a/b)\n",
    "        else:\n",
    "            print('The value of b cannot be zero')\n",
    "    else:\n",
    "        return 'Error'\n",
    "print(calculate())    \n",
    "   \n",
    "       \n",
    "    "
   ]
  },
  {
   "cell_type": "code",
   "execution_count": 10,
   "metadata": {},
   "outputs": [
    {
     "name": "stdout",
     "output_type": "stream",
     "text": [
      "Select Operator.\n",
      "1. Add\n",
      "2. Subtract\n",
      "3. Multiply\n",
      "4. Division\n",
      "5. Power\n",
      "6. Percentage\n",
      "select(1/2/3/4/5/6): 3\n",
      "Enter num1 = 489\n",
      "Enter num2 = 320\n",
      "489.0 * 320.0 = 156480.0\n"
     ]
    }
   ],
   "source": [
    "## calculator using return type function\n",
    "def Add(x, y):\n",
    "    return x + y\n",
    "\n",
    "def Subtract(x, y):\n",
    "    return x - y\n",
    "\n",
    "def Multiply(x, y):\n",
    "    return x * y\n",
    "\n",
    "def Division(x, y):\n",
    "    return x / y\n",
    "\n",
    "def Power(x,y):\n",
    "    return pow(x, y)\n",
    "\n",
    "def Percentage(x,y):\n",
    "    return (x * y)/100\n",
    "\n",
    "print('Select Operator.')\n",
    "print('1. Add')\n",
    "print('2. Subtract')\n",
    "print('3. Multiply')\n",
    "print('4. Division')\n",
    "print('5. Power')\n",
    "print('6. Percentage')\n",
    "\n",
    "select = input('select(1/2/3/4/5/6): ')\n",
    "num1 = float(input('Enter num1 = '))\n",
    "num2 = float(input('Enter num2 = '))\n",
    "\n",
    "if select == '1':\n",
    "    print(num1, '+', num2, '=', Add(num1,num2))\n",
    "\n",
    "elif select == '2':\n",
    "    print(num1, '-', num2, '=', Subtract(num1,num2))\n",
    "    \n",
    "elif select == '3':\n",
    "    print(num1, '*', num2, '=', Multiply(num1, num2))\n",
    "    \n",
    "elif select == '4':\n",
    "    if num2 == 0:\n",
    "        print(num1, '/', num2, '=', 'The value of num2 cannot be zero')\n",
    "    else:\n",
    "        print(num1, '/', num2, '=', Division(num1, num2))\n",
    "\n",
    "elif select == '5':\n",
    "    print(num1, '^', num2, '=', Power(num1, num2))\n",
    "\n",
    "elif select == '6':\n",
    "    print(num2, '% of', num1, '=', Percentage(num1, num2))\n",
    "\n",
    "else:\n",
    "    print('Error')\n",
    "\n",
    "  \n",
    "    "
   ]
  },
  {
   "cell_type": "code",
   "execution_count": null,
   "metadata": {},
   "outputs": [],
   "source": [
    "# for loops"
   ]
  },
  {
   "cell_type": "code",
   "execution_count": null,
   "metadata": {},
   "outputs": [],
   "source": [
    "a = ['apple', 'banana', 'mango']"
   ]
  },
  {
   "cell_type": "code",
   "execution_count": null,
   "metadata": {},
   "outputs": [],
   "source": [
    "for element in a:\n",
    "    print(element)"
   ]
  },
  {
   "cell_type": "code",
   "execution_count": null,
   "metadata": {},
   "outputs": [],
   "source": [
    "b = [1, 2, 3, 4]\n",
    "total = 0\n",
    "for element in b:\n",
    "    total += element\n",
    "print(total)    "
   ]
  },
  {
   "cell_type": "code",
   "execution_count": null,
   "metadata": {},
   "outputs": [],
   "source": [
    "c = list(range(1,5))\n",
    "print(c)"
   ]
  },
  {
   "cell_type": "code",
   "execution_count": null,
   "metadata": {},
   "outputs": [],
   "source": [
    "for e in range(1,10):\n",
    "    print(e)"
   ]
  },
  {
   "cell_type": "code",
   "execution_count": null,
   "metadata": {},
   "outputs": [],
   "source": [
    "total2 = 0\n",
    "for e in range(1, 10):\n",
    "    total2 += e\n",
    "print(total2)    "
   ]
  },
  {
   "cell_type": "code",
   "execution_count": null,
   "metadata": {},
   "outputs": [],
   "source": [
    "print(list(range(1, 8)))\n",
    "\n",
    "total3 = 0\n",
    "for e in range(1,8):\n",
    "    if e % 2 == 0:\n",
    "        print(e)\n",
    "        total3 += e\n",
    "print(total3)        "
   ]
  },
  {
   "cell_type": "code",
   "execution_count": null,
   "metadata": {},
   "outputs": [],
   "source": [
    "print(list(range(1, 100)))"
   ]
  },
  {
   "cell_type": "code",
   "execution_count": null,
   "metadata": {},
   "outputs": [],
   "source": [
    "# sum of numbers divisible by 3 AND 5\n",
    "\n",
    "total4 = 0\n",
    "for e in range(1, 100):\n",
    "    if e % 3 == 0 and e % 5 == 0:\n",
    "        total4 += e\n",
    "        print(e)\n",
    "        \n",
    "print('Total: ', total4)        "
   ]
  },
  {
   "cell_type": "code",
   "execution_count": null,
   "metadata": {},
   "outputs": [],
   "source": [
    "# A Program that detects whether given number is prime no. or a composite no.\n",
    "\n",
    "num = int(input('Enter No. = '))\n",
    "if num == 1 or num == 0:\n",
    "    print(num, 'is neither prime nor composite')\n",
    "elif num < 0:\n",
    "    print(num, 'is a Negative number')\n",
    "else:\n",
    "    for i in range(2, num):\n",
    "        if num % i == 0:\n",
    "            print(num, 'is a Composite Number')\n",
    "            break\n",
    "    else:\n",
    "        print(num, 'is a prime Number')\n",
    "                \n",
    "                "
   ]
  },
  {
   "cell_type": "code",
   "execution_count": null,
   "metadata": {},
   "outputs": [],
   "source": [
    "num = int(input('Enter No. = '))\n",
    "for i in range(2, num):\n",
    "        if num % i == 0:\n",
    "            print(num, 'is a Composite Number')\n",
    "            break\n",
    "        else:\n",
    "            print(num, 'is a prime Number')"
   ]
  },
  {
   "cell_type": "code",
   "execution_count": null,
   "metadata": {},
   "outputs": [],
   "source": [
    "s = \"\"\n",
    "all_total = 0\n",
    "n = int(input(\"Enter n = \"))\n",
    "for i in range(n):\n",
    "    product = input(\"Enter name = \")\n",
    "    price = int(input(\"Enter price = \"))\n",
    "    quantity = int(input(\"Enter quantity = \"))\n",
    "    total = price*quantity\n",
    "    data = f\"{product} {price}Rs/kg {quantity}kg = Rs.{total}\\n\"\n",
    "    all_total = all_total+total\n",
    "    s = s+data\n",
    "\n",
    "print(\"The billing is =\\n\", s)\n",
    "print(\"The total = Rs.\",all_total)"
   ]
  },
  {
   "cell_type": "code",
   "execution_count": null,
   "metadata": {},
   "outputs": [],
   "source": [
    "s = ''\n",
    "n = int(input('Enter n = '))\n",
    "for i in range(n):\n",
    "    name = input('Enter Name = ')\n",
    "    phone = int(input('Enter phone = '))\n",
    "    info = f'{name}--{phone}\\n'\n",
    "    s += info\n",
    "\n",
    "data = s.split('\\n')[0:-1]\n",
    "print(s)\n",
    "\n",
    "index = int(input('Enter roll = '))\n",
    "print(data[index-1])\n"
   ]
  },
  {
   "cell_type": "code",
   "execution_count": 25,
   "metadata": {},
   "outputs": [
    {
     "name": "stdout",
     "output_type": "stream",
     "text": [
      "Enter the value : apple\n",
      "apple is present 2 times in the given list\n",
      "The indexes of apple in ['Apple', 'Ball', 'Cat', 'Dog', 'Fish', 'Apple', 1, 2, 3.5, 4, 15, 1] are [0, 5]\n"
     ]
    }
   ],
   "source": [
    "#WAP to search any item by removing case sensitive\n",
    "s= ['Apple', 'Ball', 'Cat', 'Dog', 'Fish','Apple',1,2,3.5,4,15,1]\n",
    "v=input('Enter the value : ')\n",
    "value=v.lower()\n",
    "n=[]\n",
    "y=''\n",
    "for i in s:\n",
    "    j=str(i)\n",
    "    if value==j.lower():\n",
    "        print(f'{v} is present {s.count(i)} times in the given list')\n",
    "        y='yes'\n",
    "        break\n",
    "    else:\n",
    "        continue\n",
    "else:\n",
    "    print(f'{v} is not in the following list\\n{s}')\n",
    "if y=='yes':\n",
    "    for k in range(len(s)):\n",
    "        l=str(s[k])\n",
    "        if value==l.lower():\n",
    "            n=n+[k]\n",
    "    else:\n",
    "        if len(n)>1:\n",
    "            print(f'The indexes of {v} in {s} are {n}')\n",
    "        else:\n",
    "            print(f'The index of {v} in {s} is {n}')"
   ]
  },
  {
   "cell_type": "code",
   "execution_count": 1,
   "metadata": {},
   "outputs": [
    {
     "name": "stdout",
     "output_type": "stream",
     "text": [
      "Enter no.of Students = 3\n",
      "Enter no.of Subjects = 4\n",
      "Enter name = Ram\n",
      "Enter Subject = Math\n",
      "Enter marks = 70\n",
      "Enter Subject = English\n",
      "Enter marks = 80\n",
      "Enter Subject = Computer\n",
      "Enter marks = 70\n",
      "Enter Subject = Science\n",
      "Enter marks = 90\n",
      "Enter name = Hari\n",
      "Enter Subject = Math\n",
      "Enter marks = 70\n",
      "Enter Subject = English\n",
      "Enter marks = 60\n",
      "Enter Subject = Computer\n",
      "Enter marks = 90\n",
      "Enter Subject = Science\n",
      "Enter marks = 60\n",
      "Enter name = Shyam\n",
      "Enter Subject = Math\n",
      "Enter marks = 80\n",
      "Enter Subject = English\n",
      "Enter marks = 70\n",
      "Enter Subject = Computer\n",
      "Enter marks = 60\n",
      "Enter Subject = Science\n",
      "Enter marks = 88\n",
      "\n",
      "\n",
      "[{'Ram': {'Total': 180, 'Math': 70, 'English': 80, 'Computer': 70, 'Science': 90}}, {'Hari': {'Total': 120, 'Math': 70, 'English': 60, 'Computer': 90, 'Science': 60}}, {'Shyam': {'Total': 176, 'Math': 80, 'English': 70, 'Computer': 60, 'Science': 88}}] \n",
      "\n"
     ]
    }
   ],
   "source": [
    "w = []\n",
    "n = int(input('Enter no.of Students = '))\n",
    "subject = int(input('Enter no.of Subjects = '))\n",
    "\n",
    "for i in range(n):\n",
    "    name = input('Enter name = ')\n",
    "    a = {}\n",
    "    for j in range(subject):\n",
    "        sub = input('Enter Subject = ')\n",
    "        marks = int(input('Enter marks = '))\n",
    "        c = 'Total'\n",
    "        total = marks + marks\n",
    "        a[c] = total\n",
    "        a[sub] = marks\n",
    "    b = {name:a}\n",
    "    w.append(b)\n",
    "print('\\n')\n",
    "print(w)\n",
    "        "
   ]
  },
  {
   "cell_type": "code",
   "execution_count": 1,
   "metadata": {},
   "outputs": [
    {
     "ename": "NameError",
     "evalue": "name 'w' is not defined",
     "output_type": "error",
     "traceback": [
      "\u001b[1;31m---------------------------------------------------------------------------\u001b[0m",
      "\u001b[1;31mNameError\u001b[0m                                 Traceback (most recent call last)",
      "\u001b[1;32m<ipython-input-1-31ffff039e13>\u001b[0m in \u001b[0;36m<module>\u001b[1;34m\u001b[0m\n\u001b[1;32m----> 1\u001b[1;33m \u001b[0mw\u001b[0m\u001b[1;33m.\u001b[0m\u001b[0mappend\u001b[0m\u001b[1;33m(\u001b[0m\u001b[1;33m{\u001b[0m\u001b[0mname\u001b[0m\u001b[1;33m:\u001b[0m\u001b[1;33m{\u001b[0m\u001b[0mtotal\u001b[0m\u001b[1;33m,\u001b[0m\u001b[0msub\u001b[0m\u001b[1;33m,\u001b[0m\u001b[0mmarks\u001b[0m\u001b[1;33m}\u001b[0m\u001b[1;33m}\u001b[0m\u001b[1;33m)\u001b[0m\u001b[1;33m\u001b[0m\u001b[1;33m\u001b[0m\u001b[0m\n\u001b[0m",
      "\u001b[1;31mNameError\u001b[0m: name 'w' is not defined"
     ]
    }
   ],
   "source": [
    "w.append({name:{total,sub,marks}})"
   ]
  },
  {
   "cell_type": "code",
   "execution_count": 14,
   "metadata": {},
   "outputs": [
    {
     "name": "stdout",
     "output_type": "stream",
     "text": [
      "1 \n",
      "1 2 \n",
      "1 2 3 \n",
      "1 2 3 4 \n",
      "1 2 3 4 5 \n"
     ]
    }
   ],
   "source": [
    "lastnum = 6\n",
    "for row in range(1,lastnum):\n",
    "    for column in range(1,row+1):\n",
    "        print(column,end = ' ')\n",
    "    print('')"
   ]
  },
  {
   "cell_type": "code",
   "execution_count": 2,
   "metadata": {},
   "outputs": [
    {
     "name": "stdout",
     "output_type": "stream",
     "text": [
      "Enter num = 10\n",
      "Current num is:  1 The cube is:  1\n",
      "Current num is:  2 The cube is:  8\n",
      "Current num is:  3 The cube is:  27\n",
      "Current num is:  4 The cube is:  64\n",
      "Current num is:  5 The cube is:  125\n",
      "Current num is:  6 The cube is:  216\n",
      "Current num is:  7 The cube is:  343\n",
      "Current num is:  8 The cube is:  512\n",
      "Current num is:  9 The cube is:  729\n",
      "Current num is:  10 The cube is:  1000\n"
     ]
    }
   ],
   "source": [
    "num = int(input('Enter num = '))\n",
    "for cube in range(1,num+1):\n",
    "    print('Current num is: ',cube,'The cube is: ',cube**3)"
   ]
  },
  {
   "cell_type": "code",
   "execution_count": 9,
   "metadata": {},
   "outputs": [
    {
     "name": "stdout",
     "output_type": "stream",
     "text": [
      "Enter num = 24\n",
      "24 * 1 = 24\n",
      "24 * 2 = 48\n",
      "24 * 3 = 72\n",
      "24 * 4 = 96\n",
      "24 * 5 = 120\n",
      "24 * 6 = 144\n",
      "24 * 7 = 168\n",
      "24 * 8 = 192\n",
      "24 * 9 = 216\n",
      "24 * 10 = 240\n"
     ]
    }
   ],
   "source": [
    "num = int(input('Enter num = '))\n",
    "for i in range(1,10+1):\n",
    "    product = num * i\n",
    "    print(num,'*',i,'=',product)"
   ]
  }
 ],
 "metadata": {
  "kernelspec": {
   "display_name": "Python 3",
   "language": "python",
   "name": "python3"
  },
  "language_info": {
   "codemirror_mode": {
    "name": "ipython",
    "version": 3
   },
   "file_extension": ".py",
   "mimetype": "text/x-python",
   "name": "python",
   "nbconvert_exporter": "python",
   "pygments_lexer": "ipython3",
   "version": "3.8.5"
  }
 },
 "nbformat": 4,
 "nbformat_minor": 4
}
